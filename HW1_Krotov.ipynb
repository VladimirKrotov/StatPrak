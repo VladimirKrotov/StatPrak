{
  "cells": [
    {
      "cell_type": "markdown",
      "source": [
        "<a href=\"https://colab.research.google.com/drive/1Nx_klyuwQfMlq_v3woczmeeI3ZKiSdvY?usp=sharing\" target=\"_parent\"><img src=\"https://colab.research.google.com/assets/colab-badge.svg\" alt=\"Open In Colab\"/></a>"
      ],
      "metadata": {
        "id": "BPnoMGlR4rUB"
      }
    },
    {
      "cell_type": "markdown",
      "metadata": {
        "id": "xw8BD8v2oBGj"
      },
      "source": [
        "# Homework"
      ]
    },
    {
      "cell_type": "markdown",
      "metadata": {
        "id": "sSos7q2_oBGj"
      },
      "source": [
        "## Problem 1"
      ]
    },
    {
      "cell_type": "code",
      "source": [
        "int(12345 ** (1/2))"
      ],
      "metadata": {
        "colab": {
          "base_uri": "https://localhost:8080/"
        },
        "id": "roAsp6JZKe8c",
        "outputId": "2c180684-49bb-4beb-f45b-6f4821fc2e60"
      },
      "execution_count": 5,
      "outputs": [
        {
          "output_type": "execute_result",
          "data": {
            "text/plain": [
              "111"
            ]
          },
          "metadata": {},
          "execution_count": 5
        }
      ]
    },
    {
      "cell_type": "markdown",
      "metadata": {
        "id": "NiX8ePp0oBGk"
      },
      "source": [
        "Make a tuple containing natural numbers, the square of which is a multiple of 3, 4, but not a multiple of 8 and not exceeding 12345."
      ]
    },
    {
      "cell_type": "code",
      "execution_count": 7,
      "metadata": {
        "id": "XmPHEnS9oBGk",
        "colab": {
          "base_uri": "https://localhost:8080/"
        },
        "outputId": "123c02b7-1c5c-4b2d-d488-7390ff36611f"
      },
      "outputs": [
        {
          "output_type": "stream",
          "name": "stdout",
          "text": [
            "Task 1: (6, 18, 30, 42, 54, 66, 78, 90, 102)\n"
          ]
        }
      ],
      "source": [
        "t1 =tuple(x for x in range(0, int(12345 ** (1/2))+1) if x**2 % 3 == 0 and x**2 % 4 == 0 and x**2 % 8 != 0)\n",
        "print(\"Task 1:\", t1)\n"
      ]
    },
    {
      "cell_type": "markdown",
      "metadata": {
        "id": "OZBeUyxcoBGk"
      },
      "source": [
        "## Problem 2"
      ]
    },
    {
      "cell_type": "markdown",
      "metadata": {
        "id": "zIfvg22noBGk"
      },
      "source": [
        "\n",
        "Write a function that takes a two-dimensional array and a string as input and returns an array rotated 90 degrees counterclockwise if the string 'left' was passed, and clockwise if the string 'right' was passed.\n",
        "\n",
        "Example for input: $\\begin{bmatrix} 1 & 2 & 3 \\\\ 4 & 5 & 6 \\\\ 7 & 8 & 9 \\end{bmatrix}$.\\\n",
        "If the string 'left' is passed, the function should return $\\begin{bmatrix} 3 & 6 & 9 \\\\ 2 & 5 & 8 \\\\ 1 & 4 & 7 \\end{bmatrix}$, and if the string 'right' is passed, the function should return $\\begin{bmatrix} 7 & 4 & 1 \\\\ 8 & 5 & 2 \\\\ 9 & 6 & 3 \\end{bmatrix}$."
      ]
    },
    {
      "cell_type": "code",
      "execution_count": 24,
      "metadata": {
        "id": "HNvy_cRjoBGk",
        "colab": {
          "base_uri": "https://localhost:8080/"
        },
        "outputId": "6f2b07f4-d2e3-46b1-9e31-b0fe11138956"
      },
      "outputs": [
        {
          "output_type": "stream",
          "name": "stdout",
          "text": [
            "data entry error\n",
            "[1, 2, 3]\n",
            "[4, 5, 6]\n",
            "[7, 8, 9]\n",
            "\n",
            "[7, 4, 1]\n",
            "[8, 5, 2]\n",
            "[9, 6, 3]\n"
          ]
        }
      ],
      "source": [
        "def rotate(arr, str):\n",
        "    if str == 'left':\n",
        "        return [[arr[i][j] for i in range(len(arr))] for j in range(len(arr[0]) - 1, -1, -1)]\n",
        "    elif str == 'right':\n",
        "        return [[arr[i][j] for i in range(len(arr) - 1, -1, -1)] for j in range(len(arr[0]))]\n",
        "    print(\"data entry error\")\n",
        "    return arr\n",
        "\n",
        "print(*rotate([[1, 2 ,3], [4,5,6],[7,8,9]], 'leftt'), sep =\"\\n\", end=\"\\n\\n\")\n",
        "print(*rotate([[1, 2 ,3], [4,5,6],[7,8,9]], 'right'), sep =\"\\n\")"
      ]
    },
    {
      "cell_type": "markdown",
      "metadata": {
        "id": "_dY-PFlCoBGk"
      },
      "source": [
        "## Problem 3"
      ]
    },
    {
      "cell_type": "markdown",
      "metadata": {
        "id": "3CaIwcm0oBGk"
      },
      "source": [
        "Write a function that takes a string as input and returns a dictionary containing the number of occurrences of each character in the string.\n",
        "\n",
        "Example for the string 'hello, world!': {'h': 1, 'e': 1, 'l': 3, 'o': 2, ',': 1, ' ': 1, 'w': 1, 'r': 1, 'd': 1, '!': 1}."
      ]
    },
    {
      "cell_type": "code",
      "execution_count": 38,
      "metadata": {
        "id": "rlSbHusZoBGk",
        "colab": {
          "base_uri": "https://localhost:8080/"
        },
        "outputId": "6cd70c25-e2ea-4397-981d-9d22edf89407"
      },
      "outputs": [
        {
          "output_type": "execute_result",
          "data": {
            "text/plain": [
              "{'h': 1, 'e': 1, 'l': 3, 'o': 2, ' ': 1, 'w': 1, 'r': 1, 'd': 1, '!': 1}"
            ]
          },
          "metadata": {},
          "execution_count": 38
        }
      ],
      "source": [
        "str_counter = lambda str_: {s: str_.count(s) for s in str_}\n",
        "str_counter(\"hello world!\")"
      ]
    },
    {
      "cell_type": "markdown",
      "source": [
        "Если символ встречается несколько раз, str_.count(s) будет считать его заново для каждого вызова, т.е. повторяем одно и то же действие несколько раз. Это неэффективно для больших строк."
      ],
      "metadata": {
        "id": "JFlfJU2gTesW"
      }
    },
    {
      "cell_type": "code",
      "source": [
        "def str_counter(str_):\n",
        "    counter = {}\n",
        "    for char in str_:\n",
        "        counter[char] = counter.get(char, 0) + 1\n",
        "    return counter\n",
        "str_counter(\"hello world!\")"
      ],
      "metadata": {
        "colab": {
          "base_uri": "https://localhost:8080/"
        },
        "id": "CJd5dxGVTPIv",
        "outputId": "d449afa4-5ead-47ae-eefc-b62e26c00108"
      },
      "execution_count": 39,
      "outputs": [
        {
          "output_type": "execute_result",
          "data": {
            "text/plain": [
              "{'h': 1, 'e': 1, 'l': 3, 'o': 2, ' ': 1, 'w': 1, 'r': 1, 'd': 1, '!': 1}"
            ]
          },
          "metadata": {},
          "execution_count": 39
        }
      ]
    },
    {
      "cell_type": "markdown",
      "metadata": {
        "id": "KBGJ7PeboBGk"
      },
      "source": [
        "## Problem 4"
      ]
    },
    {
      "cell_type": "markdown",
      "metadata": {
        "id": "XS4Seqa9oBGk"
      },
      "source": [
        "### Implementing a Library Management System\n",
        "\n",
        "#### Description\n",
        "\n",
        "You are required to design and implement a system for managing books and users in a library. The system should allow for the management of books (adding, deleting, searching by various criteria) and users (registration, deletion, searching), as well as tracking the history of interactions between them (issuing and returning books).\n",
        "\n",
        "#### Tasks\n",
        "\n",
        "1. **`Book` Class**:\n",
        "   - Attributes: title, author, year of publication, ISBN, number of copies.\n",
        "   - Methods: constructor, methods to get information about the book, method to change the number of copies (when issuing and returning books).\n",
        "\n",
        "2. **`User` Class**:\n",
        "   - Attributes: user name, library card number, list of borrowed books.\n",
        "   - Methods: constructor, methods for user registration, methods for adding and removing books from the borrowed list.\n",
        "\n",
        "3. **`Library` Class**:\n",
        "   - Attributes: list of books, list of users, transaction history (who, when, which book was borrowed and returned).\n",
        "   - Methods: constructor, methods for adding and deleting books and users, methods for issuing and returning books, searching for books and users by various criteria, method to display the transaction history.\n",
        "\n",
        "#### Assignment\n",
        "\n",
        "1. Implement the `Book`, `User`, and `Library` classes with the specified attributes and methods.\n",
        "2. Create several books and users, and add them to the library system.\n",
        "3. Implement scenarios for issuing books to users and their return.\n",
        "4. Display the transaction history to show how books were issued and returned.\n"
      ]
    },
    {
      "cell_type": "code",
      "execution_count": 49,
      "metadata": {
        "id": "IbqwtWWsoBGl",
        "colab": {
          "base_uri": "https://localhost:8080/"
        },
        "outputId": "a78fb909-c2e3-4c26-a04a-f27c487d9c84"
      },
      "outputs": [
        {
          "output_type": "stream",
          "name": "stdout",
          "text": [
            "Book Chatsky added.\n",
            "Book Mtsyri added.\n",
            "Book Chatsky removed.\n",
            "Book not found.\n",
            "User Vladimir added.\n",
            "User Anna added.\n",
            "User Vladimir removed.\n",
            "User not found.\n",
            "Anna borrowed Mtsyri.\n",
            "Book not available.\n",
            "Anna returned Mtsyri.\n",
            "User or book not found.\n",
            "['Mtsyri by Michail Lermontov, 1839 (ISBN: 2), Copies: 1']\n",
            "Anna borrowed Mtsyri\n",
            "Anna borrowed Mtsyri\n",
            "Anna returned Mtsyri\n",
            "Anna borrowed Mtsyri\n",
            "Anna returned Mtsyri\n",
            "1\n",
            "0\n",
            "1\n",
            "User or book not found.\n",
            "User or book not found.\n",
            "User or book not found.\n",
            "User or book not found.\n"
          ]
        }
      ],
      "source": [
        "class Book:\n",
        "    def constr(b, title, author, year, isbn, copies):\n",
        "        b.title = title\n",
        "        b.author = author\n",
        "        b.year = year\n",
        "        b.isbn = isbn\n",
        "        b.copies = copies\n",
        "\n",
        "    def get_info(b):\n",
        "        return f\"{b.title} by {b.author}, {b.year} (ISBN: {b.isbn}), Copies: {b.copies}\"\n",
        "\n",
        "    def update_copies(b, amount):\n",
        "        b.copies += amount\n",
        "\n",
        "    def get_title(b):\n",
        "        return b.title\n",
        "\n",
        "    def get_author(b):\n",
        "        return b.author\n",
        "\n",
        "    def get_year(b):\n",
        "        return b.year\n",
        "\n",
        "    def get_isbn(b):\n",
        "        return b.isbn\n",
        "\n",
        "    def get_copies(b):\n",
        "        return b.copies\n",
        "\n",
        "\n",
        "class User:\n",
        "    def constr(u, user_name, card_number):\n",
        "        u.user_name = user_name\n",
        "        u.card_number = card_number\n",
        "        u.borrowed_books = []\n",
        "\n",
        "    def register(u):\n",
        "        return f\"User {u.user_name} with card {u.card_number} registered.\"\n",
        "\n",
        "    def borrow_book(u, book):\n",
        "        if book.copies > 0:\n",
        "            u.borrowed_books.append(book)\n",
        "            book.update_copies(-1)\n",
        "            return f\"{u.user_name} borrowed {book.title}.\"\n",
        "        return \"Book not available.\"\n",
        "\n",
        "    def return_book(u, book):\n",
        "        if book in u.borrowed_books:\n",
        "            u.borrowed_books.remove(book)\n",
        "            book.update_copies(1)\n",
        "            return f\"{u.user_name} returned {book.title}.\"\n",
        "        return \"Book not borrowed.\"\n",
        "\n",
        "class Library:\n",
        "    def constr(l):\n",
        "        l.books = []\n",
        "        l.users = []\n",
        "        l.transaction_history = []\n",
        "\n",
        "    def add_book(l, book):\n",
        "        l.books.append(book)\n",
        "        return f\"Book {book.title} added.\"\n",
        "\n",
        "    def remove_book(l, isbn):\n",
        "        for book in l.books:\n",
        "            if book.isbn == isbn:\n",
        "                l.books.remove(book)\n",
        "                return f\"Book {book.title} removed.\"\n",
        "        return \"Book not found.\"\n",
        "\n",
        "    def add_user(l, user):\n",
        "        l.users.append(user)\n",
        "        return f\"User {user.user_name} added.\"\n",
        "\n",
        "    def remove_user(l, card_number):\n",
        "        for user in l.users:\n",
        "            if user.card_number == card_number:\n",
        "                l.users.remove(user)\n",
        "                return f\"User {user.user_name} removed.\"\n",
        "        return \"User not found.\"\n",
        "\n",
        "    def search_books(l, keyword):\n",
        "        return [book.get_info() for book in l.books if keyword.lower() in book.title.lower() or keyword.lower() in book.author.lower()]\n",
        "\n",
        "    def search_users(l, name):\n",
        "        return [user.user_name for user in l.users if user_name.lower() in user.user_name.lower()]\n",
        "\n",
        "    def give_book(l, card_number, isbn):\n",
        "        user = next((u for u in l.users if u.card_number == card_number), None)\n",
        "        book = next((b for b in l.books if b.isbn == isbn), None)\n",
        "        if user and book:\n",
        "            result = user.borrow_book(book)\n",
        "            l.transaction_history.append(f\"{user.user_name} borrowed {book.title}\")\n",
        "            return result\n",
        "        return \"User or book not found.\"\n",
        "\n",
        "    def return_book(l, card_number, isbn):\n",
        "        user = next((u for u in l.users if u.card_number == card_number), None)\n",
        "        book = next((b for b in l.books if b.isbn == isbn), None)\n",
        "        if user and book:\n",
        "            result = user.return_book(book)\n",
        "            l.transaction_history.append(f\"{user.user_name} returned {book.title}\")\n",
        "            return result\n",
        "        return \"User or book not found.\"\n",
        "\n",
        "    def show_transaction_history(lib):\n",
        "        return \"\\n\".join(lib.transaction_history)\n",
        "\n",
        "library = Library()\n",
        "library.constr()\n",
        "\n",
        "book1 = Book()\n",
        "book1.constr(\"Chatsky\", \"Alexander Griboedov\", 1824, \"1\", 3)\n",
        "book2 = Book()\n",
        "book2.constr(\"Mtsyri\", \"Michail Lermontov\", 1839, \"2\", 1)\n",
        "\n",
        "print(library.add_book(book1))\n",
        "print(library.add_book(book2))\n",
        "\n",
        "print(library.remove_book(\"1\"))\n",
        "print(library.remove_book(\"3\"))\n",
        "\n",
        "user1 = User()\n",
        "user1.constr(\"Vladimir\", \"0001\")\n",
        "user2 = User()\n",
        "user2.constr(\"Anna\", \"0002\")\n",
        "\n",
        "print(library.add_user(user1))\n",
        "print(library.add_user(user2))\n",
        "\n",
        "print(library.remove_user(\"0001\"))\n",
        "print(library.remove_user(\"0003\"))\n",
        "print(library.give_book(\"0002\", \"2\"))\n",
        "print(library.give_book(\"0002\", \"2\"))\n",
        "print(library.return_book(\"0002\", \"2\"))\n",
        "print(library.return_book(\"0002\", \"1\"))\n",
        "print(library.search_books(\"Lermontov\"))\n",
        "\n",
        "library.give_book(\"0002\", \"2\")\n",
        "library.return_book(\"0002\", \"2\")\n",
        "\n",
        "print(library.show_transaction_history())\n",
        "print(book2.get_copies())\n",
        "\n",
        "library.give_book(\"0002\", \"2\")\n",
        "print(book2.get_copies())\n",
        "\n",
        "library.return_book(\"0002\", \"2\")\n",
        "print(book2.get_copies())\n",
        "print(library.give_book(\"0003\", \"2\"))\n",
        "print(library.give_book(\"0002\", \"3\"))\n",
        "print(library.return_book(\"0003\", \"2\"))\n",
        "print(library.return_book(\"0002\", \"3\"))\n"
      ]
    },
    {
      "cell_type": "code",
      "source": [],
      "metadata": {
        "id": "mYThh4O2eW5U"
      },
      "execution_count": null,
      "outputs": []
    },
    {
      "cell_type": "markdown",
      "metadata": {
        "id": "0c8zRbSIoBGl"
      },
      "source": [
        "## Problem 5*"
      ]
    },
    {
      "cell_type": "markdown",
      "metadata": {
        "id": "8ltdzRmOoBGl"
      },
      "source": [
        "Explain why list `b` changes after the execution of the following code:\n",
        "\n",
        "```python\n",
        "a = [1, 2, 3]\n",
        "b = a\n",
        "a[0] = 4\n",
        "print(b)\n",
        "```"
      ]
    },
    {
      "cell_type": "markdown",
      "metadata": {
        "id": "RxgnUfFPoBGl"
      },
      "source": [
        ">Переменная b не создает отдельный список, а лишь ссылается на тот же самый объект в памяти, что и a. Таким образом, a и b указывают на один и тот же список. Если изменить элемент в списке через a, то это изменение также отразится в b. Чтобы создать независимую копию списка, можно использовать b = a.copy()"
      ]
    },
    {
      "cell_type": "markdown",
      "metadata": {
        "id": "TmXLkc_foBGl"
      },
      "source": [
        "## Problem 6*"
      ]
    },
    {
      "cell_type": "markdown",
      "metadata": {
        "id": "Gn0ibiVCoBGl"
      },
      "source": [
        "Let\n",
        "$$A = \\sum_{i=1}^{10000} \\frac{1}{i^2},\\quad B=\\sum_{i=10000}^{1} \\frac{1}{i^2}.$$\n",
        "Calculate the values of $A$ and $B$ and compare them. What do you observe? Explain why this happens. What is the best way to calculate the value of $\\sum\\limits_{i=1}^{10000} \\dfrac{1}{i^2}$?"
      ]
    },
    {
      "cell_type": "code",
      "execution_count": 56,
      "metadata": {
        "id": "3q93uGqFoBGl",
        "colab": {
          "base_uri": "https://localhost:8080/"
        },
        "outputId": "463589ee-5b91-437c-a0d9-da36fe457e68"
      },
      "outputs": [
        {
          "output_type": "execute_result",
          "data": {
            "text/plain": [
              "(1.6448340718480652, 1.6448340718480596, 1.6449340668482264)"
            ]
          },
          "metadata": {},
          "execution_count": 56
        }
      ],
      "source": [
        "import math\n",
        "A = sum([1/(i**2) for i in range(1, 10000+1)])\n",
        "B = sum([1/(i**2) for i in range(10000, 0, -1)])\n",
        "A, B, ((math.pi)**2)/6"
      ]
    },
    {
      "cell_type": "markdown",
      "source": [
        "В Python числа с плавающей запятой имеют ограниченную точность. Это связано с тем, как они хранятся в памяти компьютера. Когда выполняются операции с такими числами, могут возникать ошибки округления.\n",
        "\n",
        "Выражение A:\n",
        "Здесь суммирование начинается с больших чисел (например, 1/1, 1/4, 1/9, ...) и заканчивается очень маленькими числами (например, 1/10000^2).При сложении очень маленьких чисел к уже накопленной сумме они могут \"теряться\" из-за ограниченной точности float.\n",
        "\n",
        "Выражение B:\n",
        "Здесь суммирование начинается с очень маленьких чисел (например, 1/10000^2) и заканчивается большими числами (например, 1/1). В этом случае маленькие числа складываются первыми, и их вклад в общую сумму учитывается более корректно.\n",
        "\n",
        "Из-за разного порядка суммирования возникают разные ошибки округления, что приводит к разным результатам. Подсчет B (суммирование от маленьких чисел к большим) точнее. Это связано с тем, что при таком подходе маленькие числа не теряются при сложении с уже накопленной суммой. В результате ошибки округления меньше влияют на итоговый результат."
      ],
      "metadata": {
        "id": "4t1IdOybg2RL"
      }
    }
  ],
  "metadata": {
    "colab": {
      "provenance": []
    },
    "kernelspec": {
      "display_name": "Python 3",
      "language": "python",
      "name": "python3"
    },
    "language_info": {
      "codemirror_mode": {
        "name": "ipython",
        "version": 3
      },
      "file_extension": ".py",
      "mimetype": "text/x-python",
      "name": "python",
      "nbconvert_exporter": "python",
      "pygments_lexer": "ipython3",
      "version": "3.10.6"
    }
  },
  "nbformat": 4,
  "nbformat_minor": 0
}